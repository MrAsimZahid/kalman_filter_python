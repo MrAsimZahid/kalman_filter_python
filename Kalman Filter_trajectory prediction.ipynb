{
 "cells": [
  {
   "cell_type": "markdown",
   "id": "8b5efed7",
   "metadata": {},
   "source": [
    "## Predict the trajectory of an Object by Kalman Filter"
   ]
  },
  {
   "cell_type": "markdown",
   "id": "5e28c8e5",
   "metadata": {},
   "source": [
    "### Import libraries"
   ]
  },
  {
   "cell_type": "code",
   "execution_count": 1,
   "id": "2edbdf68",
   "metadata": {
    "scrolled": true
   },
   "outputs": [],
   "source": [
    "from kalmanfilter import KalmanFilter\n",
    "#from pykalman import KalmanFilter\n",
    "import cv2"
   ]
  },
  {
   "cell_type": "markdown",
   "id": "46bc96b5",
   "metadata": {},
   "source": [
    "### Initialize Kalman Filter"
   ]
  },
  {
   "cell_type": "code",
   "execution_count": 2,
   "id": "11583b1f",
   "metadata": {},
   "outputs": [],
   "source": [
    "kf = KalmanFilter()"
   ]
  },
  {
   "cell_type": "code",
   "execution_count": 3,
   "id": "b411df79",
   "metadata": {},
   "outputs": [
    {
     "name": "stdout",
     "output_type": "stream",
     "text": [
      "(104, 57)\n"
     ]
    }
   ],
   "source": [
    "predicted = kf.predict(60 , 50)\n",
    "predicted = kf.predict(70 , 50)\n",
    "predicted = kf.predict(80 , 50)\n",
    "predicted = kf.predict(90 , 50)\n",
    "print(predicted)"
   ]
  },
  {
   "cell_type": "markdown",
   "id": "460c43d0",
   "metadata": {},
   "source": [
    "### Simulate the movement of a ball and predict the next the movements through Kalman Filter"
   ]
  },
  {
   "cell_type": "code",
   "execution_count": 5,
   "id": "6fb9b635",
   "metadata": {},
   "outputs": [
    {
     "data": {
      "text/plain": [
       "-1"
      ]
     },
     "execution_count": 5,
     "metadata": {},
     "output_type": "execute_result"
    }
   ],
   "source": [
    "img = cv2.imread('blue_background.webp')\n",
    "\n",
    "ball_positions = [(50 , 100),(100 , 100), \n",
    "                  (150 , 100), (200 , 100), \n",
    "                 (250 , 100), (300 , 100), ]\n",
    "\n",
    "for pt in ball_positions:\n",
    "    cv2.circle(img, pt , 15,(0 , 20 , 220), -1)\n",
    "    \n",
    "cv2.imshow('Img' , img) #window name is Img\n",
    "cv2.waitKey(0)"
   ]
  },
  {
   "cell_type": "markdown",
   "id": "eeab5f3e",
   "metadata": {},
   "source": [
    "#### Draw the prediction by Kalman Filter with other color "
   ]
  },
  {
   "cell_type": "code",
   "execution_count": 6,
   "id": "f17c8de0",
   "metadata": {},
   "outputs": [
    {
     "data": {
      "text/plain": [
       "-1"
      ]
     },
     "execution_count": 6,
     "metadata": {},
     "output_type": "execute_result"
    }
   ],
   "source": [
    "img = cv2.imread('blue_background.webp')\n",
    "\n",
    "for pt in ball_positions:\n",
    "    predicted = kf.predict(pt[0] , pt[1])\n",
    "    cv2.circle(img, predicted , 15,(20 , 220 , 0), 4) #green color\n",
    "    \n",
    "cv2.imshow('Img' , img) #window name is Img\n",
    "cv2.waitKey(0)"
   ]
  },
  {
   "cell_type": "code",
   "execution_count": 13,
   "id": "ce1b5ab2",
   "metadata": {},
   "outputs": [
    {
     "data": {
      "text/plain": [
       "-1"
      ]
     },
     "execution_count": 13,
     "metadata": {},
     "output_type": "execute_result"
    }
   ],
   "source": [
    "img = cv2.imread('blue_background.webp')\n",
    "\n",
    "\n",
    "ball_positions = [(50 , 100),(100 , 100), \n",
    "                  (150 , 100), (200 , 100), \n",
    "                 (250 , 100), (300 , 100),\n",
    "                  (350 , 100),(400 , 100),\n",
    "                 (450 , 100),(500 , 100)]\n",
    "\n",
    "for pt in ball_positions:\n",
    "    cv2.circle(img, pt , 15,(20 , 0 , 220),-1) #green color\n",
    "    predicted = kf.predict(pt[0] , pt[1])\n",
    "    cv2.circle(img, predicted , 15,(20 , 220 , 0), 4) #green color\n",
    "    \n",
    "predicted_1 = kf.predict(predicted[0] , predicted[1])\n",
    "cv2.circle(img , predicted_1 , 15 , (100 , 20 , 100), -1)\n",
    "\n",
    "predicted_2 = kf.predict(predicted_1[0] , predicted_1[1])\n",
    "cv2.circle(img , predicted_2 , 15 , (100 , 20 , 100), -1)\n",
    "\n",
    "predicted_3 = kf.predict(predicted_2[0] , predicted_2[1])\n",
    "cv2.circle(img , predicted_3 , 15 , (100 , 20 , 100), -1)\n",
    "    \n",
    "cv2.imshow('Img' , img) #window name is Img\n",
    "cv2.waitKey(0)"
   ]
  },
  {
   "cell_type": "markdown",
   "id": "3d9b0568",
   "metadata": {},
   "source": [
    "### lets draw the predtiction by using loop"
   ]
  },
  {
   "cell_type": "code",
   "execution_count": 4,
   "id": "9c6412ce",
   "metadata": {},
   "outputs": [
    {
     "data": {
      "text/plain": [
       "27"
      ]
     },
     "execution_count": 4,
     "metadata": {},
     "output_type": "execute_result"
    }
   ],
   "source": [
    "img = cv2.imread('blue_background.webp')\n",
    "\n",
    "\n",
    "ball_positions = [(50 , 100),(100 , 100), \n",
    "                  (150 , 100), (200 , 100), \n",
    "                 (250 , 100), (300 , 100),\n",
    "                  (350 , 100),(400 , 100),\n",
    "                 (450 , 100),(500 , 100)]\n",
    "\n",
    "for pt in ball_positions:\n",
    "    cv2.circle(img, pt , 15,(20 , 0 , 220),-1) #green color\n",
    "    predicted = kf.predict(pt[0] , pt[1])\n",
    "    cv2.circle(img, predicted , 15,(20 , 220 , 0), 4) #green color\n",
    "    \n",
    "for i in range(10):\n",
    "    predicted = kf.predict(predicted[0] , predicted[1])\n",
    "    cv2.circle(img , predicted , 15, (20 , 220 , 0 ), 4)\n",
    "    \n",
    "cv2.imshow('Img' , img) #window name is Img\n",
    "cv2.waitKey(0)"
   ]
  },
  {
   "cell_type": "code",
   "execution_count": null,
   "id": "3eed62d0",
   "metadata": {},
   "outputs": [],
   "source": []
  }
 ],
 "metadata": {
  "kernelspec": {
   "display_name": "Python 3 (ipykernel)",
   "language": "python",
   "name": "python3"
  },
  "language_info": {
   "codemirror_mode": {
    "name": "ipython",
    "version": 3
   },
   "file_extension": ".py",
   "mimetype": "text/x-python",
   "name": "python",
   "nbconvert_exporter": "python",
   "pygments_lexer": "ipython3",
   "version": "3.9.13"
  }
 },
 "nbformat": 4,
 "nbformat_minor": 5
}
